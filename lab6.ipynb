{
 "cells": [
  {
   "cell_type": "code",
   "execution_count": 1,
   "metadata": {},
   "outputs": [],
   "source": [
    "# imports\n",
    "import numpy as np\n",
    "import pandas as pd\n",
    "import matplotlib.pyplot as plt\n",
    "from scipy.stats import linregress\n",
    "%matplotlib inline\n",
    "\n",
    "# use matplotlib's interactive mode\n",
    "#from importlib import reload\n",
    "#reload(plt)\n",
    "#%matplotlib notebook\n",
    "#%matplotlib notebook"
   ]
  },
  {
   "cell_type": "code",
   "execution_count": 2,
   "metadata": {},
   "outputs": [
    {
     "name": "stdout",
     "output_type": "stream",
     "text": [
      " Volume in drive C is Windows\n",
      " Volume Serial Number is 3ABC-1A68\n",
      "\n",
      " Directory of C:\\Users\\student\\Desktop\n",
      "\n",
      "05/06/2020  09:12 AM    <DIR>          .\n",
      "05/06/2020  09:12 AM    <DIR>          ..\n",
      "05/06/2020  08:22 AM    <DIR>          .ipynb_checkpoints\n",
      "05/06/2020  08:17 AM            36,864 Al60601_raw_data.xls\n",
      "05/06/2020  08:17 AM    <DIR>          ENGR231-2020Q2\n",
      "05/06/2020  08:32 AM             1,457 Kaltura Capture.lnk\n",
      "05/06/2020  08:31 AM            31,028 Lab_6_outline_slides.pptx\n",
      "05/06/2020  09:12 AM           109,932 lab6.ipynb\n",
      "05/13/2016  01:33 PM               210 MSDS Online.url\n",
      "08/01/2018  04:14 PM    <DIR>          Safety Information\n",
      "05/06/2020  08:17 AM            39,424 Steel1018_raw_data.xls\n",
      "05/06/2020  08:49 AM           107,483 stress-strain_curve.png\n",
      "               7 File(s)        326,398 bytes\n",
      "               5 Dir(s)  119,061,725,184 bytes free\n"
     ]
    }
   ],
   "source": [
    "%ls"
   ]
  },
  {
   "cell_type": "code",
   "execution_count": 3,
   "metadata": {},
   "outputs": [
    {
     "name": "stdout",
     "output_type": "stream",
     "text": [
      "WARNING *** OLE2 inconsistency: SSCS size is 0 but SSAT size is non-zero\n"
     ]
    },
    {
     "data": {
      "text/html": [
       "<div>\n",
       "<style scoped>\n",
       "    .dataframe tbody tr th:only-of-type {\n",
       "        vertical-align: middle;\n",
       "    }\n",
       "\n",
       "    .dataframe tbody tr th {\n",
       "        vertical-align: top;\n",
       "    }\n",
       "\n",
       "    .dataframe thead th {\n",
       "        text-align: right;\n",
       "    }\n",
       "</style>\n",
       "<table border=\"1\" class=\"dataframe\">\n",
       "  <thead>\n",
       "    <tr style=\"text-align: right;\">\n",
       "      <th></th>\n",
       "      <th>TESTNUM</th>\n",
       "      <th>POINTNUM</th>\n",
       "      <th>TIME</th>\n",
       "      <th>POSIT</th>\n",
       "      <th>FORCE</th>\n",
       "      <th>EXT</th>\n",
       "      <th>CH5</th>\n",
       "      <th>CH6</th>\n",
       "      <th>CH7</th>\n",
       "      <th>CH8</th>\n",
       "    </tr>\n",
       "  </thead>\n",
       "  <tbody>\n",
       "    <tr>\n",
       "      <th>0</th>\n",
       "      <td>542</td>\n",
       "      <td>1</td>\n",
       "      <td>8.470</td>\n",
       "      <td>0.02256</td>\n",
       "      <td>201.146011</td>\n",
       "      <td>-0.001444</td>\n",
       "      <td>0.007552</td>\n",
       "      <td>NaN</td>\n",
       "      <td>NaN</td>\n",
       "      <td>NaN</td>\n",
       "    </tr>\n",
       "    <tr>\n",
       "      <th>1</th>\n",
       "      <td>542</td>\n",
       "      <td>2</td>\n",
       "      <td>8.632</td>\n",
       "      <td>0.02330</td>\n",
       "      <td>206.599442</td>\n",
       "      <td>0.000302</td>\n",
       "      <td>0.007552</td>\n",
       "      <td>NaN</td>\n",
       "      <td>NaN</td>\n",
       "      <td>NaN</td>\n",
       "    </tr>\n",
       "    <tr>\n",
       "      <th>2</th>\n",
       "      <td>542</td>\n",
       "      <td>3</td>\n",
       "      <td>10.027</td>\n",
       "      <td>0.02846</td>\n",
       "      <td>287.512573</td>\n",
       "      <td>0.003044</td>\n",
       "      <td>0.018898</td>\n",
       "      <td>NaN</td>\n",
       "      <td>NaN</td>\n",
       "      <td>NaN</td>\n",
       "    </tr>\n",
       "    <tr>\n",
       "      <th>3</th>\n",
       "      <td>542</td>\n",
       "      <td>4</td>\n",
       "      <td>11.031</td>\n",
       "      <td>0.03232</td>\n",
       "      <td>365.380981</td>\n",
       "      <td>0.009881</td>\n",
       "      <td>0.022061</td>\n",
       "      <td>NaN</td>\n",
       "      <td>NaN</td>\n",
       "      <td>NaN</td>\n",
       "    </tr>\n",
       "    <tr>\n",
       "      <th>4</th>\n",
       "      <td>542</td>\n",
       "      <td>5</td>\n",
       "      <td>11.928</td>\n",
       "      <td>0.03616</td>\n",
       "      <td>447.813965</td>\n",
       "      <td>0.014085</td>\n",
       "      <td>0.033652</td>\n",
       "      <td>NaN</td>\n",
       "      <td>NaN</td>\n",
       "      <td>NaN</td>\n",
       "    </tr>\n",
       "  </tbody>\n",
       "</table>\n",
       "</div>"
      ],
      "text/plain": [
       "   TESTNUM  POINTNUM    TIME    POSIT       FORCE       EXT       CH5  CH6  \\\n",
       "0      542         1   8.470  0.02256  201.146011 -0.001444  0.007552  NaN   \n",
       "1      542         2   8.632  0.02330  206.599442  0.000302  0.007552  NaN   \n",
       "2      542         3  10.027  0.02846  287.512573  0.003044  0.018898  NaN   \n",
       "3      542         4  11.031  0.03232  365.380981  0.009881  0.022061  NaN   \n",
       "4      542         5  11.928  0.03616  447.813965  0.014085  0.033652  NaN   \n",
       "\n",
       "   CH7  CH8  \n",
       "0  NaN  NaN  \n",
       "1  NaN  NaN  \n",
       "2  NaN  NaN  \n",
       "3  NaN  NaN  \n",
       "4  NaN  NaN  "
      ]
     },
     "execution_count": 3,
     "metadata": {},
     "output_type": "execute_result"
    }
   ],
   "source": [
    "df_al = pd.read_excel('Al60601_raw_data.xls')\n",
    "df_al.head()"
   ]
  },
  {
   "cell_type": "code",
   "execution_count": 4,
   "metadata": {},
   "outputs": [
    {
     "name": "stdout",
     "output_type": "stream",
     "text": [
      "WARNING *** OLE2 inconsistency: SSCS size is 0 but SSAT size is non-zero\n"
     ]
    },
    {
     "data": {
      "text/html": [
       "<div>\n",
       "<style scoped>\n",
       "    .dataframe tbody tr th:only-of-type {\n",
       "        vertical-align: middle;\n",
       "    }\n",
       "\n",
       "    .dataframe tbody tr th {\n",
       "        vertical-align: top;\n",
       "    }\n",
       "\n",
       "    .dataframe thead th {\n",
       "        text-align: right;\n",
       "    }\n",
       "</style>\n",
       "<table border=\"1\" class=\"dataframe\">\n",
       "  <thead>\n",
       "    <tr style=\"text-align: right;\">\n",
       "      <th></th>\n",
       "      <th>TESTNUM</th>\n",
       "      <th>POINTNUM</th>\n",
       "      <th>TIME</th>\n",
       "      <th>POSIT</th>\n",
       "      <th>FORCE</th>\n",
       "      <th>EXT</th>\n",
       "      <th>CH5</th>\n",
       "      <th>CH6</th>\n",
       "      <th>CH7</th>\n",
       "      <th>CH8</th>\n",
       "    </tr>\n",
       "  </thead>\n",
       "  <tbody>\n",
       "    <tr>\n",
       "      <th>0</th>\n",
       "      <td>523</td>\n",
       "      <td>1</td>\n",
       "      <td>6.189</td>\n",
       "      <td>0.07302</td>\n",
       "      <td>202.924728</td>\n",
       "      <td>0.000402</td>\n",
       "      <td>-0.028272</td>\n",
       "      <td>NaN</td>\n",
       "      <td>NaN</td>\n",
       "      <td>NaN</td>\n",
       "    </tr>\n",
       "    <tr>\n",
       "      <th>1</th>\n",
       "      <td>523</td>\n",
       "      <td>2</td>\n",
       "      <td>6.549</td>\n",
       "      <td>0.07396</td>\n",
       "      <td>205.714890</td>\n",
       "      <td>-0.000238</td>\n",
       "      <td>-0.034549</td>\n",
       "      <td>NaN</td>\n",
       "      <td>NaN</td>\n",
       "      <td>NaN</td>\n",
       "    </tr>\n",
       "    <tr>\n",
       "      <th>2</th>\n",
       "      <td>523</td>\n",
       "      <td>3</td>\n",
       "      <td>7.148</td>\n",
       "      <td>0.07624</td>\n",
       "      <td>217.763336</td>\n",
       "      <td>-0.000713</td>\n",
       "      <td>-0.030140</td>\n",
       "      <td>NaN</td>\n",
       "      <td>NaN</td>\n",
       "      <td>NaN</td>\n",
       "    </tr>\n",
       "    <tr>\n",
       "      <th>3</th>\n",
       "      <td>523</td>\n",
       "      <td>4</td>\n",
       "      <td>9.146</td>\n",
       "      <td>0.08438</td>\n",
       "      <td>316.306122</td>\n",
       "      <td>0.002377</td>\n",
       "      <td>-0.025968</td>\n",
       "      <td>NaN</td>\n",
       "      <td>NaN</td>\n",
       "      <td>NaN</td>\n",
       "    </tr>\n",
       "    <tr>\n",
       "      <th>4</th>\n",
       "      <td>523</td>\n",
       "      <td>5</td>\n",
       "      <td>10.041</td>\n",
       "      <td>0.08822</td>\n",
       "      <td>417.003357</td>\n",
       "      <td>0.003089</td>\n",
       "      <td>-0.024100</td>\n",
       "      <td>NaN</td>\n",
       "      <td>NaN</td>\n",
       "      <td>NaN</td>\n",
       "    </tr>\n",
       "  </tbody>\n",
       "</table>\n",
       "</div>"
      ],
      "text/plain": [
       "   TESTNUM  POINTNUM    TIME    POSIT       FORCE       EXT       CH5  CH6  \\\n",
       "0      523         1   6.189  0.07302  202.924728  0.000402 -0.028272  NaN   \n",
       "1      523         2   6.549  0.07396  205.714890 -0.000238 -0.034549  NaN   \n",
       "2      523         3   7.148  0.07624  217.763336 -0.000713 -0.030140  NaN   \n",
       "3      523         4   9.146  0.08438  316.306122  0.002377 -0.025968  NaN   \n",
       "4      523         5  10.041  0.08822  417.003357  0.003089 -0.024100  NaN   \n",
       "\n",
       "   CH7  CH8  \n",
       "0  NaN  NaN  \n",
       "1  NaN  NaN  \n",
       "2  NaN  NaN  \n",
       "3  NaN  NaN  \n",
       "4  NaN  NaN  "
      ]
     },
     "execution_count": 4,
     "metadata": {},
     "output_type": "execute_result"
    }
   ],
   "source": [
    "df_steel = pd.read_excel('Steel1018_raw_data.xls')\n",
    "df_steel.head()"
   ]
  },
  {
   "cell_type": "code",
   "execution_count": 5,
   "metadata": {},
   "outputs": [],
   "source": [
    "d = 0.506\n",
    "r = d/2\n",
    "A = np.pi*r**2\n",
    "\n",
    "stress_al = (df_al['FORCE']/A)*0.001\n",
    "strain_al = df_al['CH5']*0.01\n",
    "\n",
    "stress_steel = (df_steel['FORCE']/A)*0.001\n",
    "strain_steel = df_steel['CH5']*0.01"
   ]
  },
  {
   "cell_type": "code",
   "execution_count": 6,
   "metadata": {},
   "outputs": [
    {
     "data": {
      "image/png": "[encoded data removed]",
      "text/plain": [
       "<Figure size 432x288 with 1 Axes>"
      ]
     },
     "metadata": {
      "needs_background": "light"
     },
     "output_type": "display_data"
    }
   ],
   "source": [
    "fig,ax = plt.subplots()\n",
    "ax.plot(strain_al, stress_al)\n",
    "ax.plot(strain_steel, stress_steel)\n",
    "ax.set_xlabel('Strain (in/in)')\n",
    "ax.set_ylabel('Stress (ksi)')\n",
    "ax.set_title('Stress-Strain Curve of Al6061 and Steel1018 in Tension')\n",
    "ax.legend(['Al6061','Steel1018'])\n",
    "#plt.savefig('stress-strain_curve.png', dpi=300)\n",
    "plt.show()"
   ]
  },
  {
   "cell_type": "code",
   "execution_count": 7,
   "metadata": {},
   "outputs": [
    {
     "name": "stdout",
     "output_type": "stream",
     "text": [
      "The tensile strength of Al6061 is: 47.3 ksi\n",
      "The tensile strength of Steel1018 is: 95.5 ksi\n"
     ]
    }
   ],
   "source": [
    "# Calculate the tensile strength\n",
    "ts_al = np.max(stress_al)\n",
    "ts_steel = np.max(stress_steel)\n",
    "print(f'The tensile strength of Al6061 is: {round(ts_al,1)} ksi')\n",
    "print(f'The tensile strength of Steel1018 is: {round(ts_steel,1)} ksi')"
   ]
  },
  {
   "cell_type": "code",
   "execution_count": 25,
   "metadata": {},
   "outputs": [
    {
     "data": {
      "text/plain": [
       "LinregressResult(slope=9858.727865300387, intercept=-1.9179482306669229, rvalue=0.9955766324192783, pvalue=4.949513635158866e-87, stderr=102.12165824980629)"
      ]
     },
     "execution_count": 25,
     "metadata": {},
     "output_type": "execute_result"
    }
   ],
   "source": [
    "# Find the elastic modulus of Al60601\n",
    "linear_stress_mask_al = stress_al<36\n",
    "linear_stress_al = stress_al[linear_stress_mask_al]\n",
    "linear_strain_al = strain_al[linear_stress_mask_al]\n",
    "#from scipy.stats import linregress\n",
    "\n",
    "linregress(linear_strain_al,linear_stress_al)"
   ]
  },
  {
   "cell_type": "code",
   "execution_count": 26,
   "metadata": {},
   "outputs": [
    {
     "data": {
      "text/plain": [
       "989.641049174925"
      ]
     },
     "execution_count": 26,
     "metadata": {},
     "output_type": "execute_result"
    }
   ],
   "source": [
    "1/0.001010467381919648"
   ]
  },
  {
   "cell_type": "code",
   "execution_count": 27,
   "metadata": {},
   "outputs": [
    {
     "data": {
      "image/png": "[encoded data removed]",
      "text/plain": [
       "<Figure size 432x288 with 1 Axes>"
      ]
     },
     "metadata": {
      "needs_background": "light"
     },
     "output_type": "display_data"
    }
   ],
   "source": [
    "plt.plot(linear_strain_al,linear_stress_al)\n",
    "plt.show()"
   ]
  },
  {
   "cell_type": "code",
   "execution_count": null,
   "metadata": {},
   "outputs": [],
   "source": []
  }
 ],
 "metadata": {
  "kernelspec": {
   "display_name": "Python 3",
   "language": "python",
   "name": "python3"
  },
  "language_info": {
   "codemirror_mode": {
    "name": "ipython",
    "version": 3
   },
   "file_extension": ".py",
   "mimetype": "text/x-python",
   "name": "python",
   "nbconvert_exporter": "python",
   "pygments_lexer": "ipython3",
   "version": "3.7.3"
  }
 },
 "nbformat": 4,
 "nbformat_minor": 2
}
